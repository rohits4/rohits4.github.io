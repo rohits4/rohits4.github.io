{
 "cells": [
  {
   "cell_type": "markdown",
   "metadata": {},
   "source": [
    "# COVID-19 Accros the World"
   ]
  },
  {
   "cell_type": "markdown",
   "metadata": {},
   "source": [
    "### Introduction:\n",
    "The dataset is taken from the John Hopkins COVID-19 database, this database is updated every day for each country and is considered very accurate. This project tries to convert the data from the tabular form to interactive maps and plots to make it easier for the general public to understand the information. To make COVID-19 evolution easier to understand, simple plots are bar and line graphs are used with interaction from which user can change the information represented by the plot on the dashboard. Also, a world map is used where the user can point the mouse pointer to see the total case in that particular country."
   ]
  },
  {
   "cell_type": "code",
   "execution_count": 2,
   "metadata": {},
   "outputs": [],
   "source": [
    "import pandas as pd\n",
    "import numpy as np\n",
    "import matplotlib.pyplot as plt\n",
    "import geopandas as gpd\n",
    "import bqplot\n",
    "import ipywidgets\n",
    "from ipywidgets import interact\n",
    "import matplotlib.dates as mdates\n",
    "\n",
    "from matplotlib import dates as mpl_dates\n",
    "from datetime import datetime\n",
    "import warnings\n",
    "import pycountry\n",
    "import plotly.express as px\n",
    "warnings.filterwarnings('ignore')\n",
    "%matplotlib inline"
   ]
  },
  {
   "cell_type": "markdown",
   "metadata": {},
   "source": [
    "### Reading CSV Plots"
   ]
  },
  {
   "cell_type": "markdown",
   "metadata": {},
   "source": [
    "#### This Data set is taken from John Hopkins COVID-19 dataset"
   ]
  },
  {
   "cell_type": "code",
   "execution_count": 3,
   "metadata": {},
   "outputs": [
    {
     "data": {
      "text/html": [
       "<div>\n",
       "<style scoped>\n",
       "    .dataframe tbody tr th:only-of-type {\n",
       "        vertical-align: middle;\n",
       "    }\n",
       "\n",
       "    .dataframe tbody tr th {\n",
       "        vertical-align: top;\n",
       "    }\n",
       "\n",
       "    .dataframe thead th {\n",
       "        text-align: right;\n",
       "    }\n",
       "</style>\n",
       "<table border=\"1\" class=\"dataframe\">\n",
       "  <thead>\n",
       "    <tr style=\"text-align: right;\">\n",
       "      <th></th>\n",
       "      <th>date</th>\n",
       "      <th>location</th>\n",
       "      <th>new_cases</th>\n",
       "      <th>new_deaths</th>\n",
       "      <th>total_cases</th>\n",
       "      <th>total_deaths</th>\n",
       "      <th>weekly_cases</th>\n",
       "      <th>weekly_deaths</th>\n",
       "      <th>biweekly_cases</th>\n",
       "      <th>biweekly_deaths</th>\n",
       "    </tr>\n",
       "  </thead>\n",
       "  <tbody>\n",
       "    <tr>\n",
       "      <th>0</th>\n",
       "      <td>2019-12-31</td>\n",
       "      <td>Afghanistan</td>\n",
       "      <td>0.0</td>\n",
       "      <td>0.0</td>\n",
       "      <td>NaN</td>\n",
       "      <td>NaN</td>\n",
       "      <td>NaN</td>\n",
       "      <td>NaN</td>\n",
       "      <td>NaN</td>\n",
       "      <td>NaN</td>\n",
       "    </tr>\n",
       "    <tr>\n",
       "      <th>1</th>\n",
       "      <td>2020-01-01</td>\n",
       "      <td>Afghanistan</td>\n",
       "      <td>0.0</td>\n",
       "      <td>0.0</td>\n",
       "      <td>NaN</td>\n",
       "      <td>NaN</td>\n",
       "      <td>NaN</td>\n",
       "      <td>NaN</td>\n",
       "      <td>NaN</td>\n",
       "      <td>NaN</td>\n",
       "    </tr>\n",
       "    <tr>\n",
       "      <th>2</th>\n",
       "      <td>2020-01-02</td>\n",
       "      <td>Afghanistan</td>\n",
       "      <td>0.0</td>\n",
       "      <td>0.0</td>\n",
       "      <td>NaN</td>\n",
       "      <td>NaN</td>\n",
       "      <td>NaN</td>\n",
       "      <td>NaN</td>\n",
       "      <td>NaN</td>\n",
       "      <td>NaN</td>\n",
       "    </tr>\n",
       "    <tr>\n",
       "      <th>3</th>\n",
       "      <td>2020-01-03</td>\n",
       "      <td>Afghanistan</td>\n",
       "      <td>0.0</td>\n",
       "      <td>0.0</td>\n",
       "      <td>NaN</td>\n",
       "      <td>NaN</td>\n",
       "      <td>NaN</td>\n",
       "      <td>NaN</td>\n",
       "      <td>NaN</td>\n",
       "      <td>NaN</td>\n",
       "    </tr>\n",
       "    <tr>\n",
       "      <th>4</th>\n",
       "      <td>2020-01-04</td>\n",
       "      <td>Afghanistan</td>\n",
       "      <td>0.0</td>\n",
       "      <td>0.0</td>\n",
       "      <td>NaN</td>\n",
       "      <td>NaN</td>\n",
       "      <td>NaN</td>\n",
       "      <td>NaN</td>\n",
       "      <td>NaN</td>\n",
       "      <td>NaN</td>\n",
       "    </tr>\n",
       "    <tr>\n",
       "      <th>...</th>\n",
       "      <td>...</td>\n",
       "      <td>...</td>\n",
       "      <td>...</td>\n",
       "      <td>...</td>\n",
       "      <td>...</td>\n",
       "      <td>...</td>\n",
       "      <td>...</td>\n",
       "      <td>...</td>\n",
       "      <td>...</td>\n",
       "      <td>...</td>\n",
       "    </tr>\n",
       "    <tr>\n",
       "      <th>56353</th>\n",
       "      <td>2020-11-11</td>\n",
       "      <td>Zimbabwe</td>\n",
       "      <td>49.0</td>\n",
       "      <td>1.0</td>\n",
       "      <td>8610.0</td>\n",
       "      <td>255.0</td>\n",
       "      <td>200.0</td>\n",
       "      <td>9.0</td>\n",
       "      <td>295.0</td>\n",
       "      <td>13.0</td>\n",
       "    </tr>\n",
       "    <tr>\n",
       "      <th>56354</th>\n",
       "      <td>2020-11-12</td>\n",
       "      <td>Zimbabwe</td>\n",
       "      <td>57.0</td>\n",
       "      <td>0.0</td>\n",
       "      <td>8667.0</td>\n",
       "      <td>255.0</td>\n",
       "      <td>240.0</td>\n",
       "      <td>7.0</td>\n",
       "      <td>347.0</td>\n",
       "      <td>13.0</td>\n",
       "    </tr>\n",
       "    <tr>\n",
       "      <th>56355</th>\n",
       "      <td>2020-11-13</td>\n",
       "      <td>Zimbabwe</td>\n",
       "      <td>29.0</td>\n",
       "      <td>0.0</td>\n",
       "      <td>8696.0</td>\n",
       "      <td>255.0</td>\n",
       "      <td>252.0</td>\n",
       "      <td>7.0</td>\n",
       "      <td>347.0</td>\n",
       "      <td>13.0</td>\n",
       "    </tr>\n",
       "    <tr>\n",
       "      <th>56356</th>\n",
       "      <td>2020-11-14</td>\n",
       "      <td>Zimbabwe</td>\n",
       "      <td>69.0</td>\n",
       "      <td>2.0</td>\n",
       "      <td>8765.0</td>\n",
       "      <td>257.0</td>\n",
       "      <td>294.0</td>\n",
       "      <td>7.0</td>\n",
       "      <td>403.0</td>\n",
       "      <td>15.0</td>\n",
       "    </tr>\n",
       "    <tr>\n",
       "      <th>56357</th>\n",
       "      <td>2020-11-15</td>\n",
       "      <td>Zimbabwe</td>\n",
       "      <td>21.0</td>\n",
       "      <td>0.0</td>\n",
       "      <td>8786.0</td>\n",
       "      <td>257.0</td>\n",
       "      <td>288.0</td>\n",
       "      <td>6.0</td>\n",
       "      <td>424.0</td>\n",
       "      <td>15.0</td>\n",
       "    </tr>\n",
       "  </tbody>\n",
       "</table>\n",
       "<p>56358 rows × 10 columns</p>\n",
       "</div>"
      ],
      "text/plain": [
       "             date     location  new_cases  new_deaths  total_cases  \\\n",
       "0      2019-12-31  Afghanistan        0.0         0.0          NaN   \n",
       "1      2020-01-01  Afghanistan        0.0         0.0          NaN   \n",
       "2      2020-01-02  Afghanistan        0.0         0.0          NaN   \n",
       "3      2020-01-03  Afghanistan        0.0         0.0          NaN   \n",
       "4      2020-01-04  Afghanistan        0.0         0.0          NaN   \n",
       "...           ...          ...        ...         ...          ...   \n",
       "56353  2020-11-11     Zimbabwe       49.0         1.0       8610.0   \n",
       "56354  2020-11-12     Zimbabwe       57.0         0.0       8667.0   \n",
       "56355  2020-11-13     Zimbabwe       29.0         0.0       8696.0   \n",
       "56356  2020-11-14     Zimbabwe       69.0         2.0       8765.0   \n",
       "56357  2020-11-15     Zimbabwe       21.0         0.0       8786.0   \n",
       "\n",
       "       total_deaths  weekly_cases  weekly_deaths  biweekly_cases  \\\n",
       "0               NaN           NaN            NaN             NaN   \n",
       "1               NaN           NaN            NaN             NaN   \n",
       "2               NaN           NaN            NaN             NaN   \n",
       "3               NaN           NaN            NaN             NaN   \n",
       "4               NaN           NaN            NaN             NaN   \n",
       "...             ...           ...            ...             ...   \n",
       "56353         255.0         200.0            9.0           295.0   \n",
       "56354         255.0         240.0            7.0           347.0   \n",
       "56355         255.0         252.0            7.0           347.0   \n",
       "56356         257.0         294.0            7.0           403.0   \n",
       "56357         257.0         288.0            6.0           424.0   \n",
       "\n",
       "       biweekly_deaths  \n",
       "0                  NaN  \n",
       "1                  NaN  \n",
       "2                  NaN  \n",
       "3                  NaN  \n",
       "4                  NaN  \n",
       "...                ...  \n",
       "56353             13.0  \n",
       "56354             13.0  \n",
       "56355             13.0  \n",
       "56356             15.0  \n",
       "56357             15.0  \n",
       "\n",
       "[56358 rows x 10 columns]"
      ]
     },
     "execution_count": 3,
     "metadata": {},
     "output_type": "execute_result"
    }
   ],
   "source": [
    "csv_df = pd.read_csv(\"full_data.csv\")\n",
    "csv_df"
   ]
  },
  {
   "cell_type": "markdown",
   "metadata": {},
   "source": [
    "#### This table represents the dataset in the full dataset of all the countries on the horizontal axis with a date starting from 1st January 2020, and the horizontal axis represent new cases, new deaths, total cases, weekly cases, weekly deaths, and biweekly cases biweekly_deaths"
   ]
  },
  {
   "cell_type": "markdown",
   "metadata": {},
   "source": [
    "### Preprocessing data"
   ]
  },
  {
   "cell_type": "code",
   "execution_count": 5,
   "metadata": {},
   "outputs": [],
   "source": [
    "death_values= pd.DataFrame(csv_df['total_deaths'].groupby(csv_df['location']).agg('sum')).sort_values(by='total_deaths', ascending=False).reset_index()\n",
    "death_values.drop(death_values.loc[death_values['location'] == 'World'].index, inplace=True)\n",
    "cases_values=pd.DataFrame(csv_df['total_cases'].groupby(csv_df['location']).agg('sum')).sort_values(by='total_cases', ascending=False).reset_index()\n",
    "cases_values.drop(cases_values.loc[cases_values['location'] == 'World'].index, inplace=True)"
   ]
  },
  {
   "cell_type": "markdown",
   "metadata": {},
   "source": [
    "### Plot 1: Total Deaths and Total Case in whole world"
   ]
  },
  {
   "cell_type": "code",
   "execution_count": 6,
   "metadata": {
    "scrolled": true
   },
   "outputs": [
    {
     "data": {
      "text/plain": [
       "<BarContainer object of 2 artists>"
      ]
     },
     "execution_count": 6,
     "metadata": {},
     "output_type": "execute_result"
    },
    {
     "data": {
      "image/png": "[encoded data removed]",
      "text/plain": [
       "<Figure size 432x288 with 1 Axes>"
      ]
     },
     "metadata": {
      "needs_background": "light"
     },
     "output_type": "display_data"
    }
   ],
   "source": [
    "plt.barh(['Total_Cases', 'Total_Deaths'], [csv_df['new_cases'].agg('sum'), csv_df['new_deaths'].agg('sum')] )"
   ]
  },
  {
   "cell_type": "markdown",
   "metadata": {},
   "source": [
    "This plot shows Total death and case count(Cummulative of all the countries) "
   ]
  },
  {
   "cell_type": "markdown",
   "metadata": {},
   "source": [
    "### Plot 2:  Top 20 Countries in terms of COVID-19 Cases"
   ]
  },
  {
   "cell_type": "code",
   "execution_count": 17,
   "metadata": {},
   "outputs": [
    {
     "data": {
      "text/plain": [
       "<BarContainer object of 20 artists>"
      ]
     },
     "execution_count": 17,
     "metadata": {},
     "output_type": "execute_result"
    },
    {
     "data": {
      "image/png": "[encoded data removed]",
      "text/plain": [
       "<Figure size 432x432 with 1 Axes>"
      ]
     },
     "metadata": {
      "needs_background": "light"
     },
     "output_type": "display_data"
    }
   ],
   "source": [
    "# Plot Top 10 country by Case count\n",
    "fig, ax1 = plt.subplots(figsize=(6,6))\n",
    "plt.xticks(rotation=90)\n",
    "ax1.set_xlabel(\"Countries\")\n",
    "ax1.set_ylabel(\"Number of COVID Cases (in 10^9)\")\n",
    "ax1.set_title(\"Top Countries in terms of COVID-19 cases\")\n",
    "ax1.bar(cases_values['location'].head(20), cases_values['total_cases'].head(20))"
   ]
  },
  {
   "cell_type": "markdown",
   "metadata": {},
   "source": [
    "This plot represents the world's top 20 countries with the most number of COVID-19 cases. In this plot, the USA is at the top of the list followed by India and Brazil. And this is to be noted that after Brazil(3rd place) there is a huge difference in the total number of cases between 3rd and 4th position (Russia). At the end of this spectrum, we have Bangladesh which is closely matched by Pakistan and Saudi Arabia."
   ]
  },
  {
   "cell_type": "markdown",
   "metadata": {},
   "source": [
    "### Plot 3: Top 20 Countries in terms of COVID-19 Deaths"
   ]
  },
  {
   "cell_type": "code",
   "execution_count": 8,
   "metadata": {},
   "outputs": [
    {
     "data": {
      "text/plain": [
       "<BarContainer object of 20 artists>"
      ]
     },
     "execution_count": 8,
     "metadata": {},
     "output_type": "execute_result"
    },
    {
     "data": {
      "image/png": "[encoded data removed]",
      "text/plain": [
       "<Figure size 432x432 with 1 Axes>"
      ]
     },
     "metadata": {
      "needs_background": "light"
     },
     "output_type": "display_data"
    }
   ],
   "source": [
    "# Plot Top 10 country by Death count\n",
    "fig, ax2 = plt.subplots(figsize=(6,6))\n",
    "plt.xticks(rotation=90)\n",
    "ax2.set_xlabel(\"Countries\")\n",
    "ax2.set_ylabel(\"Number of deaths due to COVID-19 (in 10^9)\")\n",
    "ax2.set_title(\"Top Countries in terms of COVID-19 deaths\")\n",
    "ax2.bar(death_values['location'].head(20), death_values['total_deaths'].head(20))\n"
   ]
  },
  {
   "cell_type": "markdown",
   "metadata": {},
   "source": [
    "This plot represents the world's top 20 countries with the most number of deaths due to COVID-19. In this plot also the USA is at the top of the chart followed by Brazil and India. And this is to be noted that after Brazil(2nd place) there is a huge difference in the total number of cases between 2nd and 3rd position (India). At the end of this spectrum, we have the Netherlands."
   ]
  },
  {
   "cell_type": "markdown",
   "metadata": {},
   "source": [
    "### Plot 4 : COVID-19 propogation (Death/Cases) for selected country"
   ]
  },
  {
   "cell_type": "code",
   "execution_count": 9,
   "metadata": {
    "scrolled": false
   },
   "outputs": [
    {
     "data": {
      "application/vnd.jupyter.widget-view+json": {
       "model_id": "f4014bfd023b45d1a54ebf8dfa54598c",
       "version_major": 2,
       "version_minor": 0
      },
      "text/plain": [
       "interactive(children=(Dropdown(description='country', options=('Afghanistan', 'Albania', 'Algeria', 'Andorra',…"
      ]
     },
     "metadata": {},
     "output_type": "display_data"
    }
   ],
   "source": [
    "# Countries vs total_cases timeline\n",
    "@ipywidgets.interact(country=csv_df['location'].unique())\n",
    "    \n",
    "def plot_fuc(country, yAxis= list(['total_cases', 'total_deaths'])):\n",
    "    fig, ax3 = plt.subplots(figsize=(10,10))\n",
    "    xAxis = csv_df['date'].loc[csv_df['location'] == country]\n",
    "    xAxis=pd.to_datetime(xAxis)\n",
    "\n",
    "    ax3.plot(xAxis, csv_df[yAxis].loc[csv_df['location'] == country].fillna(0))\n",
    "    ax3.set_xlabel('Date of record')\n",
    "    ax3.set_ylabel('Count')\n",
    "    ax3.set_title('COVID-19 propogation (Death/Cases)')\n",
    "#     plt.xticks()\n",
    "    ax3.autoscale(enable=True, axis='x', tight=False)\n",
    "    plt.show()"
   ]
  },
  {
   "cell_type": "markdown",
   "metadata": {},
   "source": [
    "This plot is interactive, this plot can represent the total case and death propagation(by date) for the selected country.\n",
    "The is a line plot that represents the propagation of the pandemic in a selected country. The steepness of the line refers to the increase in the total cases or deaths. A flat line suggests less or no total cases or deaths."
   ]
  },
  {
   "cell_type": "markdown",
   "metadata": {},
   "source": [
    "### Plot 5: COVID-19 propogation new Death/Cases for selected country"
   ]
  },
  {
   "cell_type": "code",
   "execution_count": 10,
   "metadata": {},
   "outputs": [
    {
     "data": {
      "application/vnd.jupyter.widget-view+json": {
       "model_id": "0915f77923704bc9acedf428666c48c4",
       "version_major": 2,
       "version_minor": 0
      },
      "text/plain": [
       "interactive(children=(Dropdown(description='country', options=('Afghanistan', 'Albania', 'Algeria', 'Andorra',…"
      ]
     },
     "metadata": {},
     "output_type": "display_data"
    }
   ],
   "source": [
    "# Countries vs total_cases timeline\n",
    "@ipywidgets.interact(country=csv_df['location'].unique())\n",
    "    \n",
    "def plot_fuc(country, yAxis= list(['new_cases', 'new_deaths'])):\n",
    "    fig, ax4 = plt.subplots(figsize=(15,10))\n",
    "    \n",
    "    \n",
    "    xAxis = csv_df['date'].loc[csv_df['location'] == country]\n",
    "    xAxis=pd.to_datetime(xAxis)\n",
    "    #ax4\n",
    "    ax4.plot(xAxis, csv_df[yAxis].loc[csv_df['location'] == country].fillna(0))\n",
    "    axis =list(xAxis)\n",
    "    ax4.set_xlabel('Date of record')\n",
    "    ax4.set_ylabel('Count')\n",
    "    ax4.set_title('COVID-19 propogation new Death/Cases')\n",
    "    plt.xticks(rotation=90)\n",
    "    ax4.autoscale(enable=True, axis='x', tight=True)\n",
    "\n",
    "    plt.show()"
   ]
  },
  {
   "cell_type": "markdown",
   "metadata": {},
   "source": [
    "This plot is interactive, this plot can represent the daily new case and death propagation(by date) for the selected country. The is a line plot that represents the propagation of the pandemic in a selected country. The spike of a line refers to the increase or decrease in the new cases or deaths on that day. A flat line suggests fewer or no new cases or deaths."
   ]
  },
  {
   "cell_type": "markdown",
   "metadata": {},
   "source": [
    "## Dashboard 1"
   ]
  },
  {
   "cell_type": "code",
   "execution_count": 16,
   "metadata": {
    "scrolled": false
   },
   "outputs": [
    {
     "data": {
      "application/vnd.jupyter.widget-view+json": {
       "model_id": "fecfedc35da344f6968a914a15c2863d",
       "version_major": 2,
       "version_minor": 0
      },
      "text/plain": [
       "interactive(children=(Dropdown(description='country', options=('Afghanistan', 'Albania', 'Algeria', 'Andorra',…"
      ]
     },
     "metadata": {},
     "output_type": "display_data"
    }
   ],
   "source": [
    "import matplotlib.gridspec as gridspec\n",
    "@ipywidgets.interact(country=csv_df['location'].unique())\n",
    "    \n",
    "def dashboard_function(country, Daily= list(['new_cases', 'new_deaths']), Total= list(['total_cases', 'total_deaths'])):\n",
    "    \n",
    "    fig = plt.figure(constrained_layout=True, figsize=(10,10))\n",
    "    specs = gridspec.GridSpec(ncols=2, nrows=4, figure=fig, wspace=0.2 )\n",
    "    xAxis = csv_df['date'].loc[csv_df['location'] == country]\n",
    "    xAxis=pd.to_datetime(xAxis) # converting dates to DataTime\n",
    "    \n",
    "    fig.suptitle(' COVID-19 Till November ', fontsize=20)\n",
    "    ax1 = fig.add_subplot(specs[1, 0]) \n",
    "    plt.xticks(rotation=90)\n",
    "\n",
    "    ax2 = fig.add_subplot(specs[1, 1]) \n",
    "    plt.xticks(rotation=90)\n",
    "    \n",
    "    ax3 = fig.add_subplot(specs[3, 0])\n",
    "    plt.xticks(rotation=90)\n",
    "    \n",
    "    ax4 = fig.add_subplot(specs[3, 1]) \n",
    "    plt.xticks(rotation=90)\n",
    "    \n",
    "    ax5 = fig.add_subplot(specs[0, :]) \n",
    "    ax6 = fig.add_subplot(specs[2, :]) \n",
    "    #ax1\n",
    "    # Plot Top 10 country by Case count\n",
    "    plt.xticks(rotation=90)\n",
    "    ax1.set_xlabel(\"Countries\")\n",
    "    ax1.set_ylabel(\"Number of COVID Cases\")\n",
    "    ax1.set_title(\"Top Countries in terms of COVID-19 cases\",loc='right')\n",
    "    ax1.bar(cases_values['location'].head(20), cases_values['total_cases'].head(20))\n",
    "\n",
    "    #ax2\n",
    "    ax2.set_xlabel(\"Countries\")\n",
    "    ax2.set_ylabel(\"Number of deaths due to COVID-19\")\n",
    "    ax2.set_title(\"Top Countries in terms of COVID-19 deaths\",loc='right')\n",
    "    ax2.bar(death_values['location'].head(20), death_values['total_deaths'].head(20))\n",
    "\n",
    "    #ax3\n",
    "    ax3.plot(xAxis, csv_df[Daily].loc[csv_df['location'] == country].fillna(0))\n",
    "    ax3.set_xlabel('Date of record')\n",
    "    ax3.set_ylabel('Count')\n",
    "    ax3.set_title('Daily New COVID-19 Deaths and Cases')\n",
    "    \n",
    "    #ax4\n",
    "    ax4.plot(xAxis, csv_df[Total].loc[csv_df['location'] == country].fillna(0))\n",
    "    ax4.set_xlabel('Date of record')\n",
    "    ax4.set_ylabel('Count')\n",
    "    ax4.set_title('Total Count of COVID-19 Deaths/Cases')\n",
    "    \n",
    "    #ax5\n",
    "    ax5.barh(['Total_Cases', 'Total_Deaths'], [csv_df['new_cases'].agg('sum'), csv_df['new_deaths'].agg('sum')] )    \n",
    "    ax5.set_xlabel('Count')\n",
    "    ax5.set_title('Total Cases and Deaths Due to Covid')\n",
    "    \n",
    "    #ax6\n",
    "    ax6.barh(['Total_Cases', 'Total_Deaths'], [csv_df['new_cases'].loc[csv_df['location']== country].agg('sum'), csv_df['new_deaths'].loc[csv_df['location']== country].agg('sum')] )    \n",
    "    ax6.set_xlabel('Count')\n",
    "    ax6.set_title('Total Cases and Deaths Due to Covid in selected country')\n",
    "    plt.close(fig)\n",
    "    \n",
    "    return fig"
   ]
  },
  {
   "cell_type": "markdown",
   "metadata": {},
   "source": [
    "## The above dashboard shows the data about the COVID-19 pandemic:\n",
    "The above figure shows all the plots (Plot 1 to 6) in a dashboard form. This dashboard is easier to read and provides an in-depth picture of the pandemic in a global sense and of the country selected. Using this dashboard one can compare the situation of his/her country with the world and other countries. Also looking deeper into the line plots we can see that after the raise in cases/deaths in the  \"Daily new cases/deaths plot\" there is a steep increase in the total cases in the last plot(\"Totalcount of Covid cases/deaths\").   \n",
    "\n",
    "Following is a brief description of all the plots in the dashboard: \n",
    "### Static Plots:\n",
    "\n",
    "1. \"Total Cases and Deaths Due to Covid\": This plot displays the overall count of the deaths and cases recorded across the world.\n",
    "\n",
    "2. \"Top Countries in terms of COVID-19 cases\": This plot displays the total COVID Case count reported in descending order here we have selected the top 20 countries.\n",
    "\n",
    "3. \"Top Countries in terms of COVID-19 deaths\": This plot displays the total COVID Death count reported in descending order here we have selected the top 20 countries.\n",
    "\n",
    "### Interactive Plots\n",
    "4. \"Total Cases and Deaths Due to Covid in selected country\": This plot displays the total count COVID-19 Death and Cases, for the selected country(on selection). From this plot we can infer the ratio of people infected to deaths(reset cured) for the specific country. (interactive plot)\n",
    " \n",
    "5. \"Daily New COVID-19 Deaths and Cases\": This plot can display a time-series graph of daily new cases or new deaths reported on a particular day for a selected country. From this plot we can infer the condition of the country at a particular instance in time when clubbing this with information about country's action plan we can find what actions were taken by country helped in containing the disease.)\n",
    "\n",
    "6. \"Total Count of COVID-19 Deaths/Cases\": This plot can display a time-series graph of cumulative total cases or new deaths reported till a particular day for a selected country. From this plot we can infer the condition of the country at a particular instance in time, This graph shows the level of severity of the pandemic in the country and the slope of the graph refers to the rate at which new cases/Deaths are increasing and vice-versa.\n"
   ]
  },
  {
   "cell_type": "markdown",
   "metadata": {},
   "source": [
    "#### Droping Unnessary columns  "
   ]
  },
  {
   "cell_type": "code",
   "execution_count": 19,
   "metadata": {},
   "outputs": [
    {
     "data": {
      "text/html": [
       "<div>\n",
       "<style scoped>\n",
       "    .dataframe tbody tr th:only-of-type {\n",
       "        vertical-align: middle;\n",
       "    }\n",
       "\n",
       "    .dataframe tbody tr th {\n",
       "        vertical-align: top;\n",
       "    }\n",
       "\n",
       "    .dataframe thead th {\n",
       "        text-align: right;\n",
       "    }\n",
       "</style>\n",
       "<table border=\"1\" class=\"dataframe\">\n",
       "  <thead>\n",
       "    <tr style=\"text-align: right;\">\n",
       "      <th></th>\n",
       "      <th>location</th>\n",
       "      <th>total_cases</th>\n",
       "      <th>iso_alpha</th>\n",
       "      <th>total deaths</th>\n",
       "    </tr>\n",
       "  </thead>\n",
       "  <tbody>\n",
       "    <tr>\n",
       "      <th>1</th>\n",
       "      <td>United States</td>\n",
       "      <td>997934445.0</td>\n",
       "      <td>USA</td>\n",
       "      <td>32733963.0</td>\n",
       "    </tr>\n",
       "    <tr>\n",
       "      <th>2</th>\n",
       "      <td>India</td>\n",
       "      <td>629803124.0</td>\n",
       "      <td>IND</td>\n",
       "      <td>18657395.0</td>\n",
       "    </tr>\n",
       "    <tr>\n",
       "      <th>3</th>\n",
       "      <td>Brazil</td>\n",
       "      <td>575228794.0</td>\n",
       "      <td>BRA</td>\n",
       "      <td>10559896.0</td>\n",
       "    </tr>\n",
       "    <tr>\n",
       "      <th>4</th>\n",
       "      <td>Russia</td>\n",
       "      <td>177306992.0</td>\n",
       "      <td>RUS</td>\n",
       "      <td>9781660.0</td>\n",
       "    </tr>\n",
       "    <tr>\n",
       "      <th>5</th>\n",
       "      <td>Spain</td>\n",
       "      <td>106548322.0</td>\n",
       "      <td>ESP</td>\n",
       "      <td>8521220.0</td>\n",
       "    </tr>\n",
       "    <tr>\n",
       "      <th>...</th>\n",
       "      <td>...</td>\n",
       "      <td>...</td>\n",
       "      <td>...</td>\n",
       "      <td>...</td>\n",
       "    </tr>\n",
       "    <tr>\n",
       "      <th>210</th>\n",
       "      <td>Anguilla</td>\n",
       "      <td>695.0</td>\n",
       "      <td>AIA</td>\n",
       "      <td>0.0</td>\n",
       "    </tr>\n",
       "    <tr>\n",
       "      <th>211</th>\n",
       "      <td>Solomon Islands</td>\n",
       "      <td>265.0</td>\n",
       "      <td>SLB</td>\n",
       "      <td>0.0</td>\n",
       "    </tr>\n",
       "    <tr>\n",
       "      <th>212</th>\n",
       "      <td>Wallis and Futuna</td>\n",
       "      <td>30.0</td>\n",
       "      <td>WLF</td>\n",
       "      <td>0.0</td>\n",
       "    </tr>\n",
       "    <tr>\n",
       "      <th>213</th>\n",
       "      <td>Marshall Islands</td>\n",
       "      <td>18.0</td>\n",
       "      <td>MHL</td>\n",
       "      <td>0.0</td>\n",
       "    </tr>\n",
       "    <tr>\n",
       "      <th>214</th>\n",
       "      <td>Vanuatu</td>\n",
       "      <td>5.0</td>\n",
       "      <td>VUT</td>\n",
       "      <td>0.0</td>\n",
       "    </tr>\n",
       "  </tbody>\n",
       "</table>\n",
       "<p>213 rows × 4 columns</p>\n",
       "</div>"
      ],
      "text/plain": [
       "              location  total_cases iso_alpha  total deaths\n",
       "1        United States  997934445.0       USA    32733963.0\n",
       "2                India  629803124.0       IND    18657395.0\n",
       "3               Brazil  575228794.0       BRA    10559896.0\n",
       "4               Russia  177306992.0       RUS     9781660.0\n",
       "5                Spain  106548322.0       ESP     8521220.0\n",
       "..                 ...          ...       ...           ...\n",
       "210           Anguilla        695.0       AIA           0.0\n",
       "211    Solomon Islands        265.0       SLB           0.0\n",
       "212  Wallis and Futuna         30.0       WLF           0.0\n",
       "213   Marshall Islands         18.0       MHL           0.0\n",
       "214            Vanuatu          5.0       VUT           0.0\n",
       "\n",
       "[213 rows x 4 columns]"
      ]
     },
     "execution_count": 19,
     "metadata": {},
     "output_type": "execute_result"
    }
   ],
   "source": [
    "cases_values.drop(cases_values.loc[cases_values['location'] == 'World'].index, inplace=True)\n",
    "cases_values.drop(cases_values.loc[cases_values['location'] == 'International'].index, inplace=True)\n",
    "cases_values['total deaths']= death_values['total_deaths']\n",
    "cases_values"
   ]
  },
  {
   "cell_type": "markdown",
   "metadata": {},
   "source": [
    "### Plot 6: Total cases per country on World Map in \"hoverover text\" and \"pan view\" as interactivity"
   ]
  },
  {
   "cell_type": "code",
   "execution_count": 4,
   "metadata": {
    "scrolled": false
   },
   "outputs": [
    {
     "ename": "NameError",
     "evalue": "name 'cases_values' is not defined",
     "output_type": "error",
     "traceback": [
      "\u001b[1;31m---------------------------------------------------------------------------\u001b[0m",
      "\u001b[1;31mNameError\u001b[0m                                 Traceback (most recent call last)",
      "\u001b[1;32m<ipython-input-4-77da6b126b51>\u001b[0m in \u001b[0;36m<module>\u001b[1;34m\u001b[0m\n\u001b[0;32m      1\u001b[0m \u001b[1;31m# 'credit- https://opensource.com/article/20/4/python-map-covid-19'\u001b[0m\u001b[1;33m\u001b[0m\u001b[1;33m\u001b[0m\u001b[1;33m\u001b[0m\u001b[0m\n\u001b[1;32m----> 2\u001b[1;33m \u001b[0mlist_countries\u001b[0m \u001b[1;33m=\u001b[0m \u001b[0mcases_values\u001b[0m\u001b[1;33m[\u001b[0m\u001b[1;34m'location'\u001b[0m\u001b[1;33m]\u001b[0m\u001b[1;33m.\u001b[0m\u001b[0munique\u001b[0m\u001b[1;33m(\u001b[0m\u001b[1;33m)\u001b[0m\u001b[1;33m.\u001b[0m\u001b[0mtolist\u001b[0m\u001b[1;33m(\u001b[0m\u001b[1;33m)\u001b[0m\u001b[1;33m\u001b[0m\u001b[1;33m\u001b[0m\u001b[0m\n\u001b[0m\u001b[0;32m      3\u001b[0m \u001b[0md_country_code\u001b[0m \u001b[1;33m=\u001b[0m \u001b[1;33m{\u001b[0m\u001b[1;33m}\u001b[0m  \u001b[1;31m# To hold the country names and their ISO\u001b[0m\u001b[1;33m\u001b[0m\u001b[1;33m\u001b[0m\u001b[0m\n\u001b[0;32m      4\u001b[0m \u001b[1;33m\u001b[0m\u001b[0m\n\u001b[0;32m      5\u001b[0m \u001b[1;32mfor\u001b[0m \u001b[0mcountry\u001b[0m \u001b[1;32min\u001b[0m \u001b[0mlist_countries\u001b[0m\u001b[1;33m:\u001b[0m\u001b[1;33m\u001b[0m\u001b[1;33m\u001b[0m\u001b[0m\n",
      "\u001b[1;31mNameError\u001b[0m: name 'cases_values' is not defined"
     ]
    }
   ],
   "source": [
    "# 'credit- https://opensource.com/article/20/4/python-map-covid-19'\n",
    "list_countries = cases_values['location'].unique().tolist()\n",
    "d_country_code = {}  # To hold the country names and their ISO\n",
    "\n",
    "for country in list_countries:\n",
    "    try:\n",
    "        country_data = pycountry.countries.search_fuzzy(country)\n",
    "        country_code = country_data[0].alpha_3\n",
    "        d_country_code.update({country: country_code})\n",
    "    except:\n",
    "        d_country_code.update({country: ' '})\n",
    "\n",
    "for k, v in d_country_code.items():\n",
    "\n",
    "    cases_values.loc[(cases_values.location == k), 'iso_alpha'] = v\n",
    "\n",
    "fig = px.choropleth(data_frame = cases_values,\n",
    "                    locations= \"iso_alpha\",\n",
    "                    color= \"total_cases\",  # value in column 'Confirmed' determines color\n",
    "                    hover_name= \"location\",\n",
    "                    color_continuous_scale= 'RdYlGn'  #  color scale red, yellow green\n",
    "                )\n",
    "\n",
    "fig.show()"
   ]
  },
  {
   "cell_type": "markdown",
   "metadata": {},
   "source": [
    "This world map shows the countries by number COVID-19 cases, the country is assigned a color depending upon the number of total cases present. Also, this map provides interactivity in terms of hover over text (representing the exact number of cases) and the user can zoom/pan to view the countries.  "
   ]
  },
  {
   "cell_type": "code",
   "execution_count": null,
   "metadata": {},
   "outputs": [],
   "source": []
  },
  {
   "cell_type": "code",
   "execution_count": null,
   "metadata": {},
   "outputs": [],
   "source": []
  }
 ],
 "metadata": {
  "kernelspec": {
   "display_name": "Python 3",
   "language": "python",
   "name": "python3"
  },
  "language_info": {
   "codemirror_mode": {
    "name": "ipython",
    "version": 3
   },
   "file_extension": ".py",
   "mimetype": "text/x-python",
   "name": "python",
   "nbconvert_exporter": "python",
   "pygments_lexer": "ipython3",
   "version": "3.7.8"
  }
 },
 "nbformat": 4,
 "nbformat_minor": 4
}
